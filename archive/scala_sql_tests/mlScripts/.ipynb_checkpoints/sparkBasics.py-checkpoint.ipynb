{
 "cells": [
  {
   "cell_type": "code",
   "execution_count": 1,
   "metadata": {},
   "outputs": [
    {
     "name": "stdout",
     "output_type": "stream",
     "text": [
      "/usr/local/spark\n"
     ]
    }
   ],
   "source": [
    "import findspark\n",
    "print(findspark.find())\n",
    "findspark.init(\"/usr/local/spark\")"
   ]
  },
  {
   "cell_type": "code",
   "execution_count": null,
   "metadata": {
    "collapsed": true
   },
   "outputs": [],
   "source": [
    "from pyspark.sql import SparkSession\n",
    "spark = SparkSession \\\n",
    "        .builder \\\n",
    "        .master(\"yarn\") \\\n",
    "        .appName(\"tests\") \\\n",
    "        .config(\"spark.executor.instances\", \"3\") \\\n",
    "        .config(\"spark.executor.memory\",\"1g\") \\\n",
    "        .config(\"spark.driver.memory\",\"1g\") \\\n",
    "        .config(\"spark.executor.cores\",'1') \\\n",
    "        .config(\"spark.scheduler.mode\",\"FIFO\") \\\n",
    "        .getOrCreate()\n",
    "\n",
    "sc = spark.sparkContext"
   ]
  },
  {
   "cell_type": "code",
   "execution_count": 1,
   "metadata": {},
   "outputs": [
    {
     "name": "stdout",
     "output_type": "stream",
     "text": [
      "Starting imports\n",
      "this worked\n",
      "this worked2\n",
      "this worked2\n",
      "this worked2\n",
      "this worked2\n",
      "this worked2\n"
     ]
    }
   ],
   "source": [
    "print(\"Starting imports\")\n",
    "from pyspark.sql import DataFrame\n",
    "print(\"this worked\")\n",
    "from pyspark.sql import *\n",
    "print(\"this worked2\")\n",
    "from pyspark.ml import Pipeline\n",
    "print(\"this worked2\")\n",
    "from pyspark.ml.classification import *\n",
    "print(\"this worked2\")\n",
    "from pyspark.ml.feature import VectorAssembler\n",
    "print(\"this worked2\")\n",
    "from pyspark.ml.feature import Normalizer\n",
    "from pyspark.ml.evaluation import BinaryClassificationEvaluator\n",
    "from pyspark.sql.functions import *\n",
    "from pyspark.sql.types import *\n",
    "from pyspark.ml.tuning import *\n",
    "from pyspark.ml.feature import Imputer\n",
    "print(\"this worked2\")"
   ]
  },
  {
   "cell_type": "code",
   "execution_count": 2,
   "metadata": {
    "collapsed": true
   },
   "outputs": [],
   "source": [
    "import numpy as np\n",
    "import pandas as pd\n",
    "import scipy as sc"
   ]
  },
  {
   "cell_type": "code",
   "execution_count": 4,
   "metadata": {
    "collapsed": true
   },
   "outputs": [],
   "source": [
    "dat = spark.read.csv(\"/user/siddhant/data/train.csv\",header=True, inferSchema=True)"
   ]
  },
  {
   "cell_type": "code",
   "execution_count": 5,
   "metadata": {
    "collapsed": true
   },
   "outputs": [],
   "source": [
    "test = spark.read.csv(\"/user/siddhant/data/test.csv\", header = True, inferSchema=True)"
   ]
  },
  {
   "cell_type": "code",
   "execution_count": 6,
   "metadata": {},
   "outputs": [
    {
     "name": "stdout",
     "output_type": "stream",
     "text": [
      "59\n",
      "595212\n"
     ]
    },
    {
     "data": {
      "text/plain": [
       "2"
      ]
     },
     "execution_count": 6,
     "metadata": {},
     "output_type": "execute_result"
    }
   ],
   "source": [
    "print(len(dat.columns))\n",
    "print(dat.count())\n",
    "dat.rdd.getNumPartitions()"
   ]
  },
  {
   "cell_type": "code",
   "execution_count": 8,
   "metadata": {
    "collapsed": true
   },
   "outputs": [],
   "source": [
    "#repartition to 5 blocks\n",
    "dat = dat.repartition(8)\n",
    "test = dat.repartition(8)"
   ]
  },
  {
   "cell_type": "code",
   "execution_count": 9,
   "metadata": {},
   "outputs": [
    {
     "name": "stdout",
     "output_type": "stream",
     "text": [
      "root\n",
      " |-- id: integer (nullable = true)\n",
      " |-- target: integer (nullable = true)\n",
      " |-- ps_ind_01: integer (nullable = true)\n",
      " |-- ps_ind_02_cat: integer (nullable = true)\n",
      " |-- ps_ind_03: integer (nullable = true)\n",
      " |-- ps_ind_04_cat: integer (nullable = true)\n",
      " |-- ps_ind_05_cat: integer (nullable = true)\n",
      " |-- ps_ind_06_bin: integer (nullable = true)\n",
      " |-- ps_ind_07_bin: integer (nullable = true)\n",
      " |-- ps_ind_08_bin: integer (nullable = true)\n",
      " |-- ps_ind_09_bin: integer (nullable = true)\n",
      " |-- ps_ind_10_bin: integer (nullable = true)\n",
      " |-- ps_ind_11_bin: integer (nullable = true)\n",
      " |-- ps_ind_12_bin: integer (nullable = true)\n",
      " |-- ps_ind_13_bin: integer (nullable = true)\n",
      " |-- ps_ind_14: integer (nullable = true)\n",
      " |-- ps_ind_15: integer (nullable = true)\n",
      " |-- ps_ind_16_bin: integer (nullable = true)\n",
      " |-- ps_ind_17_bin: integer (nullable = true)\n",
      " |-- ps_ind_18_bin: integer (nullable = true)\n",
      " |-- ps_reg_01: double (nullable = true)\n",
      " |-- ps_reg_02: double (nullable = true)\n",
      " |-- ps_reg_03: double (nullable = true)\n",
      " |-- ps_car_01_cat: integer (nullable = true)\n",
      " |-- ps_car_02_cat: integer (nullable = true)\n",
      " |-- ps_car_03_cat: integer (nullable = true)\n",
      " |-- ps_car_04_cat: integer (nullable = true)\n",
      " |-- ps_car_05_cat: integer (nullable = true)\n",
      " |-- ps_car_06_cat: integer (nullable = true)\n",
      " |-- ps_car_07_cat: integer (nullable = true)\n",
      " |-- ps_car_08_cat: integer (nullable = true)\n",
      " |-- ps_car_09_cat: integer (nullable = true)\n",
      " |-- ps_car_10_cat: integer (nullable = true)\n",
      " |-- ps_car_11_cat: integer (nullable = true)\n",
      " |-- ps_car_11: integer (nullable = true)\n",
      " |-- ps_car_12: double (nullable = true)\n",
      " |-- ps_car_13: double (nullable = true)\n",
      " |-- ps_car_14: double (nullable = true)\n",
      " |-- ps_car_15: double (nullable = true)\n",
      " |-- ps_calc_01: double (nullable = true)\n",
      " |-- ps_calc_02: double (nullable = true)\n",
      " |-- ps_calc_03: double (nullable = true)\n",
      " |-- ps_calc_04: integer (nullable = true)\n",
      " |-- ps_calc_05: integer (nullable = true)\n",
      " |-- ps_calc_06: integer (nullable = true)\n",
      " |-- ps_calc_07: integer (nullable = true)\n",
      " |-- ps_calc_08: integer (nullable = true)\n",
      " |-- ps_calc_09: integer (nullable = true)\n",
      " |-- ps_calc_10: integer (nullable = true)\n",
      " |-- ps_calc_11: integer (nullable = true)\n",
      " |-- ps_calc_12: integer (nullable = true)\n",
      " |-- ps_calc_13: integer (nullable = true)\n",
      " |-- ps_calc_14: integer (nullable = true)\n",
      " |-- ps_calc_15_bin: integer (nullable = true)\n",
      " |-- ps_calc_16_bin: integer (nullable = true)\n",
      " |-- ps_calc_17_bin: integer (nullable = true)\n",
      " |-- ps_calc_18_bin: integer (nullable = true)\n",
      " |-- ps_calc_19_bin: integer (nullable = true)\n",
      " |-- ps_calc_20_bin: integer (nullable = true)\n",
      "\n"
     ]
    }
   ],
   "source": [
    "dat.printSchema()"
   ]
  },
  {
   "cell_type": "code",
   "execution_count": 33,
   "metadata": {},
   "outputs": [
    {
     "data": {
      "text/plain": [
       "Row(target=0, ps_ind_01=5, ps_ind_02_cat=4, ps_ind_03=9, ps_ind_04_cat=1, ps_ind_05_cat=0, ps_ind_06_bin=0, ps_ind_07_bin=0, ps_ind_08_bin=1, ps_ind_09_bin=0, ps_ind_10_bin=0, ps_ind_11_bin=0, ps_ind_12_bin=0, ps_ind_13_bin=0, ps_ind_14=0, ps_ind_15=12, ps_ind_16_bin=1, ps_ind_17_bin=0, ps_ind_18_bin=0, ps_reg_01=0.0, ps_reg_02=0.0, ps_reg_03=-1.0, ps_car_01_cat=7, ps_car_02_cat=1, ps_car_03_cat=-1, ps_car_04_cat=0, ps_car_05_cat=-1, ps_car_06_cat=14, ps_car_07_cat=1, ps_car_08_cat=1, ps_car_09_cat=2, ps_car_10_cat=1, ps_car_11_cat=60, ps_car_11=1, ps_car_12=0.316227766, ps_car_13=0.6415857163, ps_car_14=0.34727510710000004, ps_car_15=3.3166247904, ps_calc_01=0.5, ps_calc_02=0.7, ps_calc_03=0.1, ps_calc_04=2, ps_calc_05=2, ps_calc_06=9, ps_calc_07=1, ps_calc_08=8, ps_calc_09=2, ps_calc_10=7, ps_calc_11=4, ps_calc_12=2, ps_calc_13=7, ps_calc_14=7, ps_calc_15_bin=0, ps_calc_16_bin=1, ps_calc_17_bin=1, ps_calc_18_bin=0, ps_calc_19_bin=1, ps_calc_20_bin=0)"
      ]
     },
     "execution_count": 33,
     "metadata": {},
     "output_type": "execute_result"
    }
   ],
   "source": [
    "from pyspark.ml.regression import LinearRegression\n",
    "from pyspark.ml.classification import LogisticRegression\n",
    "dat.head()"
   ]
  },
  {
   "cell_type": "code",
   "execution_count": 34,
   "metadata": {},
   "outputs": [
    {
     "data": {
      "text/plain": [
       "[Row(target=1, count=21694), Row(target=0, count=573518)]"
      ]
     },
     "execution_count": 34,
     "metadata": {},
     "output_type": "execute_result"
    }
   ],
   "source": [
    "dat.groupBy(col(\"target\")).count().collect()"
   ]
  },
  {
   "cell_type": "code",
   "execution_count": 35,
   "metadata": {
    "collapsed": true
   },
   "outputs": [],
   "source": [
    "types = [str(f.dataType) for f in dat.schema.fields]\n",
    "dat = dat.drop(\"id\")\n",
    "test = test.drop(\"id\")"
   ]
  },
  {
   "cell_type": "code",
   "execution_count": 36,
   "metadata": {},
   "outputs": [
    {
     "data": {
      "text/plain": [
       "['ps_ind_01',\n",
       " 'ps_ind_02_cat',\n",
       " 'ps_ind_03',\n",
       " 'ps_ind_04_cat',\n",
       " 'ps_ind_05_cat',\n",
       " 'ps_ind_06_bin',\n",
       " 'ps_ind_07_bin',\n",
       " 'ps_ind_08_bin',\n",
       " 'ps_ind_09_bin',\n",
       " 'ps_ind_10_bin',\n",
       " 'ps_ind_11_bin',\n",
       " 'ps_ind_12_bin',\n",
       " 'ps_ind_13_bin',\n",
       " 'ps_ind_14',\n",
       " 'ps_ind_15',\n",
       " 'ps_ind_16_bin',\n",
       " 'ps_ind_17_bin',\n",
       " 'ps_ind_18_bin',\n",
       " 'ps_reg_01',\n",
       " 'ps_reg_02',\n",
       " 'ps_reg_03',\n",
       " 'ps_car_01_cat',\n",
       " 'ps_car_02_cat',\n",
       " 'ps_car_03_cat',\n",
       " 'ps_car_04_cat',\n",
       " 'ps_car_05_cat',\n",
       " 'ps_car_06_cat',\n",
       " 'ps_car_07_cat',\n",
       " 'ps_car_08_cat',\n",
       " 'ps_car_09_cat',\n",
       " 'ps_car_10_cat',\n",
       " 'ps_car_11_cat',\n",
       " 'ps_car_11',\n",
       " 'ps_car_12',\n",
       " 'ps_car_13',\n",
       " 'ps_car_14',\n",
       " 'ps_car_15',\n",
       " 'ps_calc_01',\n",
       " 'ps_calc_02',\n",
       " 'ps_calc_03',\n",
       " 'ps_calc_04',\n",
       " 'ps_calc_05',\n",
       " 'ps_calc_06',\n",
       " 'ps_calc_07',\n",
       " 'ps_calc_08',\n",
       " 'ps_calc_09',\n",
       " 'ps_calc_10',\n",
       " 'ps_calc_11',\n",
       " 'ps_calc_12',\n",
       " 'ps_calc_13',\n",
       " 'ps_calc_14',\n",
       " 'ps_calc_15_bin',\n",
       " 'ps_calc_16_bin',\n",
       " 'ps_calc_17_bin',\n",
       " 'ps_calc_18_bin',\n",
       " 'ps_calc_19_bin',\n",
       " 'ps_calc_20_bin']"
      ]
     },
     "execution_count": 36,
     "metadata": {},
     "output_type": "execute_result"
    }
   ],
   "source": [
    "features = dat.columns[1:]\n",
    "features"
   ]
  },
  {
   "cell_type": "code",
   "execution_count": 37,
   "metadata": {
    "collapsed": true
   },
   "outputs": [],
   "source": [
    "assembler = VectorAssembler(\n",
    "    inputCols=[x for x in dat.columns[:]],\n",
    "    outputCol='features')\n",
    "\n",
    "dat_processed = assembler.transform(dat)\n",
    "test_processed = assembler.transform(test)"
   ]
  },
  {
   "cell_type": "code",
   "execution_count": 38,
   "metadata": {},
   "outputs": [
    {
     "name": "stdout",
     "output_type": "stream",
     "text": [
      "root\n",
      " |-- target: integer (nullable = true)\n",
      " |-- ps_ind_01: integer (nullable = true)\n",
      " |-- ps_ind_02_cat: integer (nullable = true)\n",
      " |-- ps_ind_03: integer (nullable = true)\n",
      " |-- ps_ind_04_cat: integer (nullable = true)\n",
      " |-- ps_ind_05_cat: integer (nullable = true)\n",
      " |-- ps_ind_06_bin: integer (nullable = true)\n",
      " |-- ps_ind_07_bin: integer (nullable = true)\n",
      " |-- ps_ind_08_bin: integer (nullable = true)\n",
      " |-- ps_ind_09_bin: integer (nullable = true)\n",
      " |-- ps_ind_10_bin: integer (nullable = true)\n",
      " |-- ps_ind_11_bin: integer (nullable = true)\n",
      " |-- ps_ind_12_bin: integer (nullable = true)\n",
      " |-- ps_ind_13_bin: integer (nullable = true)\n",
      " |-- ps_ind_14: integer (nullable = true)\n",
      " |-- ps_ind_15: integer (nullable = true)\n",
      " |-- ps_ind_16_bin: integer (nullable = true)\n",
      " |-- ps_ind_17_bin: integer (nullable = true)\n",
      " |-- ps_ind_18_bin: integer (nullable = true)\n",
      " |-- ps_reg_01: double (nullable = true)\n",
      " |-- ps_reg_02: double (nullable = true)\n",
      " |-- ps_reg_03: double (nullable = true)\n",
      " |-- ps_car_01_cat: integer (nullable = true)\n",
      " |-- ps_car_02_cat: integer (nullable = true)\n",
      " |-- ps_car_03_cat: integer (nullable = true)\n",
      " |-- ps_car_04_cat: integer (nullable = true)\n",
      " |-- ps_car_05_cat: integer (nullable = true)\n",
      " |-- ps_car_06_cat: integer (nullable = true)\n",
      " |-- ps_car_07_cat: integer (nullable = true)\n",
      " |-- ps_car_08_cat: integer (nullable = true)\n",
      " |-- ps_car_09_cat: integer (nullable = true)\n",
      " |-- ps_car_10_cat: integer (nullable = true)\n",
      " |-- ps_car_11_cat: integer (nullable = true)\n",
      " |-- ps_car_11: integer (nullable = true)\n",
      " |-- ps_car_12: double (nullable = true)\n",
      " |-- ps_car_13: double (nullable = true)\n",
      " |-- ps_car_14: double (nullable = true)\n",
      " |-- ps_car_15: double (nullable = true)\n",
      " |-- ps_calc_01: double (nullable = true)\n",
      " |-- ps_calc_02: double (nullable = true)\n",
      " |-- ps_calc_03: double (nullable = true)\n",
      " |-- ps_calc_04: integer (nullable = true)\n",
      " |-- ps_calc_05: integer (nullable = true)\n",
      " |-- ps_calc_06: integer (nullable = true)\n",
      " |-- ps_calc_07: integer (nullable = true)\n",
      " |-- ps_calc_08: integer (nullable = true)\n",
      " |-- ps_calc_09: integer (nullable = true)\n",
      " |-- ps_calc_10: integer (nullable = true)\n",
      " |-- ps_calc_11: integer (nullable = true)\n",
      " |-- ps_calc_12: integer (nullable = true)\n",
      " |-- ps_calc_13: integer (nullable = true)\n",
      " |-- ps_calc_14: integer (nullable = true)\n",
      " |-- ps_calc_15_bin: integer (nullable = true)\n",
      " |-- ps_calc_16_bin: integer (nullable = true)\n",
      " |-- ps_calc_17_bin: integer (nullable = true)\n",
      " |-- ps_calc_18_bin: integer (nullable = true)\n",
      " |-- ps_calc_19_bin: integer (nullable = true)\n",
      " |-- ps_calc_20_bin: integer (nullable = true)\n",
      " |-- features: vector (nullable = true)\n",
      "\n"
     ]
    }
   ],
   "source": [
    "dat_processed.printSchema() #check for features"
   ]
  },
  {
   "cell_type": "code",
   "execution_count": 39,
   "metadata": {
    "collapsed": true
   },
   "outputs": [],
   "source": [
    "#Initializing Linear Regression model\n",
    "lr = LogisticRegression(featuresCol = \"features\", labelCol = \"target\")"
   ]
  },
  {
   "cell_type": "code",
   "execution_count": 40,
   "metadata": {
    "collapsed": true
   },
   "outputs": [],
   "source": [
    "#Training Model\n",
    "lrModel = lr.fit(dat_processed)  #Find out why this is not working(what are the parameters supposed to be)"
   ]
  },
  {
   "cell_type": "code",
   "execution_count": 41,
   "metadata": {},
   "outputs": [
    {
     "data": {
      "text/plain": [
       "DataFrame[target: int, ps_ind_01: int, ps_ind_02_cat: int, ps_ind_03: int, ps_ind_04_cat: int, ps_ind_05_cat: int, ps_ind_06_bin: int, ps_ind_07_bin: int, ps_ind_08_bin: int, ps_ind_09_bin: int, ps_ind_10_bin: int, ps_ind_11_bin: int, ps_ind_12_bin: int, ps_ind_13_bin: int, ps_ind_14: int, ps_ind_15: int, ps_ind_16_bin: int, ps_ind_17_bin: int, ps_ind_18_bin: int, ps_reg_01: double, ps_reg_02: double, ps_reg_03: double, ps_car_01_cat: int, ps_car_02_cat: int, ps_car_03_cat: int, ps_car_04_cat: int, ps_car_05_cat: int, ps_car_06_cat: int, ps_car_07_cat: int, ps_car_08_cat: int, ps_car_09_cat: int, ps_car_10_cat: int, ps_car_11_cat: int, ps_car_11: int, ps_car_12: double, ps_car_13: double, ps_car_14: double, ps_car_15: double, ps_calc_01: double, ps_calc_02: double, ps_calc_03: double, ps_calc_04: int, ps_calc_05: int, ps_calc_06: int, ps_calc_07: int, ps_calc_08: int, ps_calc_09: int, ps_calc_10: int, ps_calc_11: int, ps_calc_12: int, ps_calc_13: int, ps_calc_14: int, ps_calc_15_bin: int, ps_calc_16_bin: int, ps_calc_17_bin: int, ps_calc_18_bin: int, ps_calc_19_bin: int, ps_calc_20_bin: int, features: vector, rawPrediction: vector, probability: vector, prediction: double]"
      ]
     },
     "execution_count": 41,
     "metadata": {},
     "output_type": "execute_result"
    }
   ],
   "source": [
    "predicted = lrModel.transform(test_processed)\n",
    "predicted"
   ]
  },
  {
   "cell_type": "code",
   "execution_count": 42,
   "metadata": {
    "scrolled": true
   },
   "outputs": [
    {
     "name": "stdout",
     "output_type": "stream",
     "text": [
      "root\n",
      " |-- target: integer (nullable = true)\n",
      " |-- ps_ind_01: integer (nullable = true)\n",
      " |-- ps_ind_02_cat: integer (nullable = true)\n",
      " |-- ps_ind_03: integer (nullable = true)\n",
      " |-- ps_ind_04_cat: integer (nullable = true)\n",
      " |-- ps_ind_05_cat: integer (nullable = true)\n",
      " |-- ps_ind_06_bin: integer (nullable = true)\n",
      " |-- ps_ind_07_bin: integer (nullable = true)\n",
      " |-- ps_ind_08_bin: integer (nullable = true)\n",
      " |-- ps_ind_09_bin: integer (nullable = true)\n",
      " |-- ps_ind_10_bin: integer (nullable = true)\n",
      " |-- ps_ind_11_bin: integer (nullable = true)\n",
      " |-- ps_ind_12_bin: integer (nullable = true)\n",
      " |-- ps_ind_13_bin: integer (nullable = true)\n",
      " |-- ps_ind_14: integer (nullable = true)\n",
      " |-- ps_ind_15: integer (nullable = true)\n",
      " |-- ps_ind_16_bin: integer (nullable = true)\n",
      " |-- ps_ind_17_bin: integer (nullable = true)\n",
      " |-- ps_ind_18_bin: integer (nullable = true)\n",
      " |-- ps_reg_01: double (nullable = true)\n",
      " |-- ps_reg_02: double (nullable = true)\n",
      " |-- ps_reg_03: double (nullable = true)\n",
      " |-- ps_car_01_cat: integer (nullable = true)\n",
      " |-- ps_car_02_cat: integer (nullable = true)\n",
      " |-- ps_car_03_cat: integer (nullable = true)\n",
      " |-- ps_car_04_cat: integer (nullable = true)\n",
      " |-- ps_car_05_cat: integer (nullable = true)\n",
      " |-- ps_car_06_cat: integer (nullable = true)\n",
      " |-- ps_car_07_cat: integer (nullable = true)\n",
      " |-- ps_car_08_cat: integer (nullable = true)\n",
      " |-- ps_car_09_cat: integer (nullable = true)\n",
      " |-- ps_car_10_cat: integer (nullable = true)\n",
      " |-- ps_car_11_cat: integer (nullable = true)\n",
      " |-- ps_car_11: integer (nullable = true)\n",
      " |-- ps_car_12: double (nullable = true)\n",
      " |-- ps_car_13: double (nullable = true)\n",
      " |-- ps_car_14: double (nullable = true)\n",
      " |-- ps_car_15: double (nullable = true)\n",
      " |-- ps_calc_01: double (nullable = true)\n",
      " |-- ps_calc_02: double (nullable = true)\n",
      " |-- ps_calc_03: double (nullable = true)\n",
      " |-- ps_calc_04: integer (nullable = true)\n",
      " |-- ps_calc_05: integer (nullable = true)\n",
      " |-- ps_calc_06: integer (nullable = true)\n",
      " |-- ps_calc_07: integer (nullable = true)\n",
      " |-- ps_calc_08: integer (nullable = true)\n",
      " |-- ps_calc_09: integer (nullable = true)\n",
      " |-- ps_calc_10: integer (nullable = true)\n",
      " |-- ps_calc_11: integer (nullable = true)\n",
      " |-- ps_calc_12: integer (nullable = true)\n",
      " |-- ps_calc_13: integer (nullable = true)\n",
      " |-- ps_calc_14: integer (nullable = true)\n",
      " |-- ps_calc_15_bin: integer (nullable = true)\n",
      " |-- ps_calc_16_bin: integer (nullable = true)\n",
      " |-- ps_calc_17_bin: integer (nullable = true)\n",
      " |-- ps_calc_18_bin: integer (nullable = true)\n",
      " |-- ps_calc_19_bin: integer (nullable = true)\n",
      " |-- ps_calc_20_bin: integer (nullable = true)\n",
      " |-- features: vector (nullable = true)\n",
      " |-- rawPrediction: vector (nullable = true)\n",
      " |-- probability: vector (nullable = true)\n",
      " |-- prediction: double (nullable = true)\n",
      "\n"
     ]
    },
    {
     "data": {
      "text/plain": [
       "pyspark.sql.dataframe.DataFrame"
      ]
     },
     "execution_count": 42,
     "metadata": {},
     "output_type": "execute_result"
    }
   ],
   "source": [
    "predicted.printSchema()\n",
    "type(predicted)"
   ]
  },
  {
   "cell_type": "code",
   "execution_count": 50,
   "metadata": {},
   "outputs": [
    {
     "data": {
      "text/plain": [
       "[Row(target=0, prediction=0.0),\n",
       " Row(target=0, prediction=0.0),\n",
       " Row(target=0, prediction=0.0),\n",
       " Row(target=0, prediction=0.0),\n",
       " Row(target=0, prediction=0.0),\n",
       " Row(target=0, prediction=0.0),\n",
       " Row(target=0, prediction=0.0),\n",
       " Row(target=0, prediction=0.0),\n",
       " Row(target=0, prediction=0.0),\n",
       " Row(target=0, prediction=0.0)]"
      ]
     },
     "execution_count": 50,
     "metadata": {},
     "output_type": "execute_result"
    }
   ],
   "source": [
    "pred = predicted.select(\"target\", \"prediction\")\n",
    "pred.take(10)"
   ]
  },
  {
   "cell_type": "code",
   "execution_count": 56,
   "metadata": {},
   "outputs": [
    {
     "ename": "IllegalArgumentException",
     "evalue": "'Field \"label\" does not exist.'",
     "output_type": "error",
     "traceback": [
      "\u001b[0;31m---------------------------------------------------------------------------\u001b[0m",
      "\u001b[0;31mPy4JJavaError\u001b[0m                             Traceback (most recent call last)",
      "\u001b[0;32m/usr/local/spark/python/pyspark/sql/utils.py\u001b[0m in \u001b[0;36mdeco\u001b[0;34m(*a, **kw)\u001b[0m\n\u001b[1;32m     62\u001b[0m         \u001b[0;32mtry\u001b[0m\u001b[0;34m:\u001b[0m\u001b[0;34m\u001b[0m\u001b[0m\n\u001b[0;32m---> 63\u001b[0;31m             \u001b[0;32mreturn\u001b[0m \u001b[0mf\u001b[0m\u001b[0;34m(\u001b[0m\u001b[0;34m*\u001b[0m\u001b[0ma\u001b[0m\u001b[0;34m,\u001b[0m \u001b[0;34m**\u001b[0m\u001b[0mkw\u001b[0m\u001b[0;34m)\u001b[0m\u001b[0;34m\u001b[0m\u001b[0m\n\u001b[0m\u001b[1;32m     64\u001b[0m         \u001b[0;32mexcept\u001b[0m \u001b[0mpy4j\u001b[0m\u001b[0;34m.\u001b[0m\u001b[0mprotocol\u001b[0m\u001b[0;34m.\u001b[0m\u001b[0mPy4JJavaError\u001b[0m \u001b[0;32mas\u001b[0m \u001b[0me\u001b[0m\u001b[0;34m:\u001b[0m\u001b[0;34m\u001b[0m\u001b[0m\n",
      "\u001b[0;32m/usr/local/spark/python/lib/py4j-0.10.4-src.zip/py4j/protocol.py\u001b[0m in \u001b[0;36mget_return_value\u001b[0;34m(answer, gateway_client, target_id, name)\u001b[0m\n\u001b[1;32m    318\u001b[0m                     \u001b[0;34m\"An error occurred while calling {0}{1}{2}.\\n\"\u001b[0m\u001b[0;34m.\u001b[0m\u001b[0;34m\u001b[0m\u001b[0m\n\u001b[0;32m--> 319\u001b[0;31m                     format(target_id, \".\", name), value)\n\u001b[0m\u001b[1;32m    320\u001b[0m             \u001b[0;32melse\u001b[0m\u001b[0;34m:\u001b[0m\u001b[0;34m\u001b[0m\u001b[0m\n",
      "\u001b[0;31mPy4JJavaError\u001b[0m: An error occurred while calling o354.evaluate.\n: java.lang.IllegalArgumentException: Field \"label\" does not exist.\n\tat org.apache.spark.sql.types.StructType$$anonfun$apply$1.apply(StructType.scala:266)\n\tat org.apache.spark.sql.types.StructType$$anonfun$apply$1.apply(StructType.scala:266)\n\tat scala.collection.MapLike$class.getOrElse(MapLike.scala:128)\n\tat scala.collection.AbstractMap.getOrElse(Map.scala:59)\n\tat org.apache.spark.sql.types.StructType.apply(StructType.scala:265)\n\tat org.apache.spark.ml.util.SchemaUtils$.checkNumericType(SchemaUtils.scala:71)\n\tat org.apache.spark.ml.evaluation.BinaryClassificationEvaluator.evaluate(BinaryClassificationEvaluator.scala:77)\n\tat sun.reflect.NativeMethodAccessorImpl.invoke0(Native Method)\n\tat sun.reflect.NativeMethodAccessorImpl.invoke(NativeMethodAccessorImpl.java:62)\n\tat sun.reflect.DelegatingMethodAccessorImpl.invoke(DelegatingMethodAccessorImpl.java:43)\n\tat java.lang.reflect.Method.invoke(Method.java:498)\n\tat py4j.reflection.MethodInvoker.invoke(MethodInvoker.java:244)\n\tat py4j.reflection.ReflectionEngine.invoke(ReflectionEngine.java:357)\n\tat py4j.Gateway.invoke(Gateway.java:280)\n\tat py4j.commands.AbstractCommand.invokeMethod(AbstractCommand.java:132)\n\tat py4j.commands.CallCommand.execute(CallCommand.java:79)\n\tat py4j.GatewayConnection.run(GatewayConnection.java:214)\n\tat java.lang.Thread.run(Thread.java:748)\n",
      "\nDuring handling of the above exception, another exception occurred:\n",
      "\u001b[0;31mIllegalArgumentException\u001b[0m                  Traceback (most recent call last)",
      "\u001b[0;32m<ipython-input-56-17e7bf2e5464>\u001b[0m in \u001b[0;36m<module>\u001b[0;34m()\u001b[0m\n\u001b[1;32m      1\u001b[0m \u001b[0mevaluator\u001b[0m \u001b[0;34m=\u001b[0m \u001b[0mBinaryClassificationEvaluator\u001b[0m\u001b[0;34m(\u001b[0m\u001b[0mrawPredictionCol\u001b[0m\u001b[0;34m=\u001b[0m\u001b[0;34m\"prediction\"\u001b[0m\u001b[0;34m)\u001b[0m\u001b[0;34m\u001b[0m\u001b[0m\n\u001b[0;32m----> 2\u001b[0;31m \u001b[0mevaluator\u001b[0m\u001b[0;34m.\u001b[0m\u001b[0mevaluate\u001b[0m\u001b[0;34m(\u001b[0m\u001b[0mpred\u001b[0m\u001b[0;34m)\u001b[0m\u001b[0;34m\u001b[0m\u001b[0m\n\u001b[0m",
      "\u001b[0;32m/usr/local/spark/python/pyspark/ml/evaluation.py\u001b[0m in \u001b[0;36mevaluate\u001b[0;34m(self, dataset, params)\u001b[0m\n\u001b[1;32m     67\u001b[0m                 \u001b[0;32mreturn\u001b[0m \u001b[0mself\u001b[0m\u001b[0;34m.\u001b[0m\u001b[0mcopy\u001b[0m\u001b[0;34m(\u001b[0m\u001b[0mparams\u001b[0m\u001b[0;34m)\u001b[0m\u001b[0;34m.\u001b[0m\u001b[0m_evaluate\u001b[0m\u001b[0;34m(\u001b[0m\u001b[0mdataset\u001b[0m\u001b[0;34m)\u001b[0m\u001b[0;34m\u001b[0m\u001b[0m\n\u001b[1;32m     68\u001b[0m             \u001b[0;32melse\u001b[0m\u001b[0;34m:\u001b[0m\u001b[0;34m\u001b[0m\u001b[0m\n\u001b[0;32m---> 69\u001b[0;31m                 \u001b[0;32mreturn\u001b[0m \u001b[0mself\u001b[0m\u001b[0;34m.\u001b[0m\u001b[0m_evaluate\u001b[0m\u001b[0;34m(\u001b[0m\u001b[0mdataset\u001b[0m\u001b[0;34m)\u001b[0m\u001b[0;34m\u001b[0m\u001b[0m\n\u001b[0m\u001b[1;32m     70\u001b[0m         \u001b[0;32melse\u001b[0m\u001b[0;34m:\u001b[0m\u001b[0;34m\u001b[0m\u001b[0m\n\u001b[1;32m     71\u001b[0m             \u001b[0;32mraise\u001b[0m \u001b[0mValueError\u001b[0m\u001b[0;34m(\u001b[0m\u001b[0;34m\"Params must be a param map but got %s.\"\u001b[0m \u001b[0;34m%\u001b[0m \u001b[0mtype\u001b[0m\u001b[0;34m(\u001b[0m\u001b[0mparams\u001b[0m\u001b[0;34m)\u001b[0m\u001b[0;34m)\u001b[0m\u001b[0;34m\u001b[0m\u001b[0m\n",
      "\u001b[0;32m/usr/local/spark/python/pyspark/ml/evaluation.py\u001b[0m in \u001b[0;36m_evaluate\u001b[0;34m(self, dataset)\u001b[0m\n\u001b[1;32m     97\u001b[0m         \"\"\"\n\u001b[1;32m     98\u001b[0m         \u001b[0mself\u001b[0m\u001b[0;34m.\u001b[0m\u001b[0m_transfer_params_to_java\u001b[0m\u001b[0;34m(\u001b[0m\u001b[0;34m)\u001b[0m\u001b[0;34m\u001b[0m\u001b[0m\n\u001b[0;32m---> 99\u001b[0;31m         \u001b[0;32mreturn\u001b[0m \u001b[0mself\u001b[0m\u001b[0;34m.\u001b[0m\u001b[0m_java_obj\u001b[0m\u001b[0;34m.\u001b[0m\u001b[0mevaluate\u001b[0m\u001b[0;34m(\u001b[0m\u001b[0mdataset\u001b[0m\u001b[0;34m.\u001b[0m\u001b[0m_jdf\u001b[0m\u001b[0;34m)\u001b[0m\u001b[0;34m\u001b[0m\u001b[0m\n\u001b[0m\u001b[1;32m    100\u001b[0m \u001b[0;34m\u001b[0m\u001b[0m\n\u001b[1;32m    101\u001b[0m     \u001b[0;32mdef\u001b[0m \u001b[0misLargerBetter\u001b[0m\u001b[0;34m(\u001b[0m\u001b[0mself\u001b[0m\u001b[0;34m)\u001b[0m\u001b[0;34m:\u001b[0m\u001b[0;34m\u001b[0m\u001b[0m\n",
      "\u001b[0;32m/usr/local/spark/python/lib/py4j-0.10.4-src.zip/py4j/java_gateway.py\u001b[0m in \u001b[0;36m__call__\u001b[0;34m(self, *args)\u001b[0m\n\u001b[1;32m   1131\u001b[0m         \u001b[0manswer\u001b[0m \u001b[0;34m=\u001b[0m \u001b[0mself\u001b[0m\u001b[0;34m.\u001b[0m\u001b[0mgateway_client\u001b[0m\u001b[0;34m.\u001b[0m\u001b[0msend_command\u001b[0m\u001b[0;34m(\u001b[0m\u001b[0mcommand\u001b[0m\u001b[0;34m)\u001b[0m\u001b[0;34m\u001b[0m\u001b[0m\n\u001b[1;32m   1132\u001b[0m         return_value = get_return_value(\n\u001b[0;32m-> 1133\u001b[0;31m             answer, self.gateway_client, self.target_id, self.name)\n\u001b[0m\u001b[1;32m   1134\u001b[0m \u001b[0;34m\u001b[0m\u001b[0m\n\u001b[1;32m   1135\u001b[0m         \u001b[0;32mfor\u001b[0m \u001b[0mtemp_arg\u001b[0m \u001b[0;32min\u001b[0m \u001b[0mtemp_args\u001b[0m\u001b[0;34m:\u001b[0m\u001b[0;34m\u001b[0m\u001b[0m\n",
      "\u001b[0;32m/usr/local/spark/python/pyspark/sql/utils.py\u001b[0m in \u001b[0;36mdeco\u001b[0;34m(*a, **kw)\u001b[0m\n\u001b[1;32m     77\u001b[0m                 \u001b[0;32mraise\u001b[0m \u001b[0mQueryExecutionException\u001b[0m\u001b[0;34m(\u001b[0m\u001b[0ms\u001b[0m\u001b[0;34m.\u001b[0m\u001b[0msplit\u001b[0m\u001b[0;34m(\u001b[0m\u001b[0;34m': '\u001b[0m\u001b[0;34m,\u001b[0m \u001b[0;36m1\u001b[0m\u001b[0;34m)\u001b[0m\u001b[0;34m[\u001b[0m\u001b[0;36m1\u001b[0m\u001b[0;34m]\u001b[0m\u001b[0;34m,\u001b[0m \u001b[0mstackTrace\u001b[0m\u001b[0;34m)\u001b[0m\u001b[0;34m\u001b[0m\u001b[0m\n\u001b[1;32m     78\u001b[0m             \u001b[0;32mif\u001b[0m \u001b[0ms\u001b[0m\u001b[0;34m.\u001b[0m\u001b[0mstartswith\u001b[0m\u001b[0;34m(\u001b[0m\u001b[0;34m'java.lang.IllegalArgumentException: '\u001b[0m\u001b[0;34m)\u001b[0m\u001b[0;34m:\u001b[0m\u001b[0;34m\u001b[0m\u001b[0m\n\u001b[0;32m---> 79\u001b[0;31m                 \u001b[0;32mraise\u001b[0m \u001b[0mIllegalArgumentException\u001b[0m\u001b[0;34m(\u001b[0m\u001b[0ms\u001b[0m\u001b[0;34m.\u001b[0m\u001b[0msplit\u001b[0m\u001b[0;34m(\u001b[0m\u001b[0;34m': '\u001b[0m\u001b[0;34m,\u001b[0m \u001b[0;36m1\u001b[0m\u001b[0;34m)\u001b[0m\u001b[0;34m[\u001b[0m\u001b[0;36m1\u001b[0m\u001b[0;34m]\u001b[0m\u001b[0;34m,\u001b[0m \u001b[0mstackTrace\u001b[0m\u001b[0;34m)\u001b[0m\u001b[0;34m\u001b[0m\u001b[0m\n\u001b[0m\u001b[1;32m     80\u001b[0m             \u001b[0;32mraise\u001b[0m\u001b[0;34m\u001b[0m\u001b[0m\n\u001b[1;32m     81\u001b[0m     \u001b[0;32mreturn\u001b[0m \u001b[0mdeco\u001b[0m\u001b[0;34m\u001b[0m\u001b[0m\n",
      "\u001b[0;31mIllegalArgumentException\u001b[0m: 'Field \"label\" does not exist.'"
     ]
    }
   ],
   "source": [
    "evaluator = BinaryClassificationEvaluator(rawPredictionCol=\"prediction\")\n",
    "evaluator.evaluate(pred)"
   ]
  },
  {
   "cell_type": "code",
   "execution_count": 49,
   "metadata": {},
   "outputs": [
    {
     "data": {
      "text/plain": [
       "595212"
      ]
     },
     "execution_count": 49,
     "metadata": {},
     "output_type": "execute_result"
    }
   ],
   "source": [
    "def accuracy(pred):\n",
    "    x = pred.count()\n",
    "    for x in range()\n",
    "    "
   ]
  }
 ],
 "metadata": {
  "kernelspec": {
   "display_name": "Python 3",
   "language": "python",
   "name": "python3"
  },
  "language_info": {
   "codemirror_mode": {
    "name": "ipython",
    "version": 3
   },
   "file_extension": ".py",
   "mimetype": "text/x-python",
   "name": "python",
   "nbconvert_exporter": "python",
   "pygments_lexer": "ipython3",
   "version": "3.6.1"
  }
 },
 "nbformat": 4,
 "nbformat_minor": 2
}
