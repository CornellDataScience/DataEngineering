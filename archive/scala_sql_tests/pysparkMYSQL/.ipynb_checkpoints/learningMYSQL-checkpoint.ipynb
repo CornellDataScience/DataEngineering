{
 "cells": [
  {
   "cell_type": "code",
   "execution_count": 1,
   "metadata": {},
   "outputs": [
    {
     "name": "stdout",
     "output_type": "stream",
     "text": [
      "/usr/local/spark\n"
     ]
    }
   ],
   "source": [
    "import findspark\n",
    "print(findspark.find())\n",
    "findspark.init(\"/usr/local/spark\")"
   ]
  },
  {
   "cell_type": "code",
   "execution_count": 2,
   "metadata": {
    "collapsed": true
   },
   "outputs": [],
   "source": [
    "from pyspark.sql import SparkSession\n",
    "spark = SparkSession \\\n",
    "        .builder \\\n",
    "        .master(\"yarn\") \\\n",
    "        .appName(\"tests\") \\\n",
    "        .config(\"spark.executor.instances\", \"3\") \\\n",
    "        .config(\"spark.executor.memory\",\"1g\") \\\n",
    "        .config(\"spark.driver.memory\",\"1g\") \\\n",
    "        .config(\"spark.executor.cores\",'1') \\\n",
    "        .config(\"spark.scheduler.mode\",\"FIFO\") \\\n",
    "        .getOrCreate()\n",
    "sc = spark.sparkContext"
   ]
  },
  {
   "cell_type": "code",
   "execution_count": 32,
   "metadata": {
    "collapsed": true
   },
   "outputs": [],
   "source": [
    "#Need to time SQL operations\n",
    "import time"
   ]
  },
  {
   "cell_type": "code",
   "execution_count": 3,
   "metadata": {},
   "outputs": [
    {
     "name": "stdout",
     "output_type": "stream",
     "text": [
      "<class 'pyspark.context.SparkContext'>\n"
     ]
    }
   ],
   "source": [
    "print (type(sc))"
   ]
  },
  {
   "cell_type": "code",
   "execution_count": 4,
   "metadata": {
    "collapsed": true
   },
   "outputs": [],
   "source": [
    "from pyspark.sql import SQLContext\n",
    "sqlContext = SQLContext(sc)"
   ]
  },
  {
   "cell_type": "code",
   "execution_count": 5,
   "metadata": {
    "collapsed": true
   },
   "outputs": [],
   "source": [
    "#Add to spark-defaults.conf file\n",
    "#Download mysql-connector.jar\n",
    "source_df = sqlContext.read.format('jdbc').options(\n",
    "          url='jdbc:mysql://localhost/learnMYSQL',\n",
    "          driver='com.mysql.jdbc.Driver',\n",
    "          dbtable='train',\n",
    "          user='root',\n",
    "          password='happiness').load()"
   ]
  },
  {
   "cell_type": "code",
   "execution_count": 6,
   "metadata": {},
   "outputs": [
    {
     "name": "stdout",
     "output_type": "stream",
     "text": [
      "root\n",
      " |-- id: integer (nullable = true)\n",
      " |-- target: integer (nullable = true)\n",
      " |-- ps_ind_01: integer (nullable = true)\n",
      " |-- ps_ind_02_cat: integer (nullable = true)\n",
      " |-- ps_ind_03: integer (nullable = true)\n",
      " |-- ps_ind_04_cat: integer (nullable = true)\n",
      " |-- ps_ind_05_cat: integer (nullable = true)\n",
      " |-- ps_ind_06_bin: integer (nullable = true)\n",
      " |-- ps_ind_07_bin: integer (nullable = true)\n",
      " |-- ps_ind_08_bin: integer (nullable = true)\n",
      " |-- ps_ind_09_bin: integer (nullable = true)\n",
      " |-- ps_ind_10_bin: integer (nullable = true)\n",
      " |-- ps_ind_11_bin: integer (nullable = true)\n",
      " |-- ps_ind_12_bin: integer (nullable = true)\n",
      " |-- ps_ind_13_bin: integer (nullable = true)\n",
      " |-- ps_ind_14: integer (nullable = true)\n",
      " |-- ps_ind_15: integer (nullable = true)\n",
      " |-- ps_ind_16_bin: integer (nullable = true)\n",
      " |-- ps_ind_17_bin: integer (nullable = true)\n",
      " |-- ps_ind_18_bin: integer (nullable = true)\n",
      " |-- ps_reg_01: double (nullable = true)\n",
      " |-- ps_reg_02: double (nullable = true)\n",
      " |-- ps_reg_03: double (nullable = true)\n",
      " |-- ps_car_01_cat: integer (nullable = true)\n",
      " |-- ps_car_02_cat: integer (nullable = true)\n",
      " |-- ps_car_03_cat: integer (nullable = true)\n",
      " |-- ps_car_04_cat: integer (nullable = true)\n",
      " |-- ps_car_05_cat: integer (nullable = true)\n",
      " |-- ps_car_06_cat: integer (nullable = true)\n",
      " |-- ps_car_07_cat: integer (nullable = true)\n",
      " |-- ps_car_08_cat: integer (nullable = true)\n",
      " |-- ps_car_09_cat: integer (nullable = true)\n",
      " |-- ps_car_10_cat: integer (nullable = true)\n",
      " |-- ps_car_11_cat: integer (nullable = true)\n",
      " |-- ps_car_11: integer (nullable = true)\n",
      " |-- ps_car_12: double (nullable = true)\n",
      " |-- ps_car_13: double (nullable = true)\n",
      " |-- ps_car_14: double (nullable = true)\n",
      " |-- ps_car_15: double (nullable = true)\n",
      " |-- ps_calc_01: double (nullable = true)\n",
      " |-- ps_calc_02: double (nullable = true)\n",
      " |-- ps_calc_03: double (nullable = true)\n",
      " |-- ps_calc_04: integer (nullable = true)\n",
      " |-- ps_calc_05: integer (nullable = true)\n",
      " |-- ps_calc_06: integer (nullable = true)\n",
      " |-- ps_calc_07: integer (nullable = true)\n",
      " |-- ps_calc_08: integer (nullable = true)\n",
      " |-- ps_calc_09: integer (nullable = true)\n",
      " |-- ps_calc_10: integer (nullable = true)\n",
      " |-- ps_calc_11: integer (nullable = true)\n",
      " |-- ps_calc_12: integer (nullable = true)\n",
      " |-- ps_calc_13: integer (nullable = true)\n",
      " |-- ps_calc_14: integer (nullable = true)\n",
      " |-- ps_calc_15_bin: integer (nullable = true)\n",
      " |-- ps_calc_16_bin: integer (nullable = true)\n",
      " |-- ps_calc_17_bin: integer (nullable = true)\n",
      " |-- ps_calc_18_bin: integer (nullable = true)\n",
      " |-- ps_calc_19_bin: integer (nullable = true)\n",
      " |-- ps_calc_20_bin: integer (nullable = true)\n",
      "\n"
     ]
    }
   ],
   "source": [
    "source_df.printSchema()"
   ]
  },
  {
   "cell_type": "code",
   "execution_count": 49,
   "metadata": {},
   "outputs": [
    {
     "name": "stdout",
     "output_type": "stream",
     "text": [
      "[Row(target=1, count=21694), Row(target=0, count=573518)]\n",
      "0.010661000000000254\n"
     ]
    }
   ],
   "source": [
    "start = time.clock()\n",
    "print(source_df.groupBy(\"target\").count().collect())\n",
    "end = time.clock()\n",
    "optime = end - start\n",
    "print (optime)"
   ]
  },
  {
   "cell_type": "code",
   "execution_count": null,
   "metadata": {
    "collapsed": true
   },
   "outputs": [],
   "source": [
    "df_slow = source_df\n",
    "df_slow.take(3) #probably doesn't work on original data"
   ]
  },
  {
   "cell_type": "code",
   "execution_count": 8,
   "metadata": {},
   "outputs": [
    {
     "data": {
      "text/plain": [
       "[Row(target=0), Row(target=0), Row(target=0), Row(target=0), Row(target=0)]"
      ]
     },
     "execution_count": 8,
     "metadata": {},
     "output_type": "execute_result"
    }
   ],
   "source": [
    "df = source_df.select(\"target\")\n",
    "df.take(5)"
   ]
  },
  {
   "cell_type": "code",
   "execution_count": 10,
   "metadata": {},
   "outputs": [
    {
     "data": {
      "text/plain": [
       "[Row(id=7, target=0, ps_ind_01=2),\n",
       " Row(id=9, target=0, ps_ind_01=1),\n",
       " Row(id=13, target=0, ps_ind_01=5),\n",
       " Row(id=16, target=0, ps_ind_01=0),\n",
       " Row(id=17, target=0, ps_ind_01=0)]"
      ]
     },
     "execution_count": 10,
     "metadata": {},
     "output_type": "execute_result"
    }
   ],
   "source": [
    "df_2 = source_df.select(\"id\", \"target\", \"ps_ind_01\")\n",
    "df_2.take(5)"
   ]
  },
  {
   "cell_type": "code",
   "execution_count": 46,
   "metadata": {},
   "outputs": [
    {
     "name": "stdout",
     "output_type": "stream",
     "text": [
      "[Row(id=7, ps_ind_02_cat=2), Row(id=9, ps_ind_02_cat=1), Row(id=13, ps_ind_02_cat=4), Row(id=16, ps_ind_02_cat=1), Row(id=17, ps_ind_02_cat=2)]\n",
      "3.694865\n",
      "3.708976\n",
      "0.014110999999999763\n"
     ]
    }
   ],
   "source": [
    "start = time.clock()\n",
    "df_1 = source_df.select(\"id\", \"ps_ind_02_cat\")\n",
    "print(df_1.take(5))\n",
    "end = time.clock()\n",
    "optime = end-start\n",
    "print (start)\n",
    "print (end)\n",
    "print(optime)"
   ]
  },
  {
   "cell_type": "code",
   "execution_count": 47,
   "metadata": {},
   "outputs": [
    {
     "data": {
      "text/plain": [
       "[Row(id=496, ps_ind_02_cat=1, target=0, ps_ind_01=2),\n",
       " Row(id=1342, ps_ind_02_cat=2, target=0, ps_ind_01=1),\n",
       " Row(id=1959, ps_ind_02_cat=1, target=0, ps_ind_01=0),\n",
       " Row(id=2122, ps_ind_02_cat=1, target=0, ps_ind_01=1),\n",
       " Row(id=3175, ps_ind_02_cat=1, target=0, ps_ind_01=0),\n",
       " Row(id=3749, ps_ind_02_cat=2, target=0, ps_ind_01=0),\n",
       " Row(id=4101, ps_ind_02_cat=2, target=0, ps_ind_01=0),\n",
       " Row(id=4519, ps_ind_02_cat=1, target=0, ps_ind_01=4),\n",
       " Row(id=4900, ps_ind_02_cat=2, target=0, ps_ind_01=0),\n",
       " Row(id=5156, ps_ind_02_cat=1, target=0, ps_ind_01=3),\n",
       " Row(id=6397, ps_ind_02_cat=1, target=0, ps_ind_01=3),\n",
       " Row(id=6620, ps_ind_02_cat=1, target=1, ps_ind_01=1),\n",
       " Row(id=7253, ps_ind_02_cat=2, target=0, ps_ind_01=0),\n",
       " Row(id=8638, ps_ind_02_cat=2, target=0, ps_ind_01=0),\n",
       " Row(id=11033, ps_ind_02_cat=2, target=0, ps_ind_01=2),\n",
       " Row(id=11141, ps_ind_02_cat=1, target=0, ps_ind_01=0),\n",
       " Row(id=11317, ps_ind_02_cat=2, target=0, ps_ind_01=0),\n",
       " Row(id=11748, ps_ind_02_cat=2, target=0, ps_ind_01=1),\n",
       " Row(id=11858, ps_ind_02_cat=1, target=0, ps_ind_01=2),\n",
       " Row(id=12027, ps_ind_02_cat=1, target=0, ps_ind_01=5),\n",
       " Row(id=13623, ps_ind_02_cat=1, target=0, ps_ind_01=5),\n",
       " Row(id=15619, ps_ind_02_cat=1, target=0, ps_ind_01=1),\n",
       " Row(id=15957, ps_ind_02_cat=2, target=0, ps_ind_01=0),\n",
       " Row(id=16339, ps_ind_02_cat=1, target=0, ps_ind_01=0),\n",
       " Row(id=16386, ps_ind_02_cat=1, target=0, ps_ind_01=7),\n",
       " Row(id=16574, ps_ind_02_cat=1, target=0, ps_ind_01=0),\n",
       " Row(id=16861, ps_ind_02_cat=1, target=0, ps_ind_01=0),\n",
       " Row(id=17420, ps_ind_02_cat=1, target=0, ps_ind_01=0),\n",
       " Row(id=17679, ps_ind_02_cat=1, target=0, ps_ind_01=4),\n",
       " Row(id=18024, ps_ind_02_cat=1, target=0, ps_ind_01=3),\n",
       " Row(id=18051, ps_ind_02_cat=1, target=0, ps_ind_01=4),\n",
       " Row(id=18498, ps_ind_02_cat=1, target=0, ps_ind_01=1),\n",
       " Row(id=18866, ps_ind_02_cat=3, target=0, ps_ind_01=5),\n",
       " Row(id=19079, ps_ind_02_cat=1, target=0, ps_ind_01=0),\n",
       " Row(id=19204, ps_ind_02_cat=2, target=0, ps_ind_01=3),\n",
       " Row(id=20135, ps_ind_02_cat=1, target=0, ps_ind_01=0),\n",
       " Row(id=20735, ps_ind_02_cat=1, target=0, ps_ind_01=0),\n",
       " Row(id=22346, ps_ind_02_cat=1, target=0, ps_ind_01=5),\n",
       " Row(id=22373, ps_ind_02_cat=1, target=0, ps_ind_01=2),\n",
       " Row(id=23015, ps_ind_02_cat=2, target=0, ps_ind_01=1),\n",
       " Row(id=23364, ps_ind_02_cat=1, target=0, ps_ind_01=3),\n",
       " Row(id=23571, ps_ind_02_cat=1, target=1, ps_ind_01=5),\n",
       " Row(id=24171, ps_ind_02_cat=1, target=0, ps_ind_01=2),\n",
       " Row(id=26583, ps_ind_02_cat=1, target=0, ps_ind_01=2),\n",
       " Row(id=26623, ps_ind_02_cat=1, target=0, ps_ind_01=1),\n",
       " Row(id=27484, ps_ind_02_cat=1, target=0, ps_ind_01=0),\n",
       " Row(id=28024, ps_ind_02_cat=1, target=0, ps_ind_01=4),\n",
       " Row(id=28088, ps_ind_02_cat=1, target=0, ps_ind_01=0),\n",
       " Row(id=28577, ps_ind_02_cat=2, target=0, ps_ind_01=4),\n",
       " Row(id=28664, ps_ind_02_cat=1, target=0, ps_ind_01=2),\n",
       " Row(id=28759, ps_ind_02_cat=1, target=0, ps_ind_01=0),\n",
       " Row(id=29054, ps_ind_02_cat=1, target=0, ps_ind_01=3),\n",
       " Row(id=29194, ps_ind_02_cat=1, target=0, ps_ind_01=1),\n",
       " Row(id=29228, ps_ind_02_cat=1, target=0, ps_ind_01=2),\n",
       " Row(id=29285, ps_ind_02_cat=1, target=0, ps_ind_01=5),\n",
       " Row(id=29814, ps_ind_02_cat=1, target=0, ps_ind_01=5),\n",
       " Row(id=29894, ps_ind_02_cat=1, target=0, ps_ind_01=3),\n",
       " Row(id=29993, ps_ind_02_cat=1, target=0, ps_ind_01=6),\n",
       " Row(id=30654, ps_ind_02_cat=1, target=0, ps_ind_01=6),\n",
       " Row(id=32396, ps_ind_02_cat=2, target=0, ps_ind_01=0),\n",
       " Row(id=33412, ps_ind_02_cat=1, target=0, ps_ind_01=2),\n",
       " Row(id=33602, ps_ind_02_cat=1, target=0, ps_ind_01=1),\n",
       " Row(id=33717, ps_ind_02_cat=2, target=0, ps_ind_01=1),\n",
       " Row(id=33722, ps_ind_02_cat=1, target=0, ps_ind_01=0),\n",
       " Row(id=34234, ps_ind_02_cat=2, target=0, ps_ind_01=0),\n",
       " Row(id=34239, ps_ind_02_cat=1, target=0, ps_ind_01=0),\n",
       " Row(id=35689, ps_ind_02_cat=2, target=0, ps_ind_01=0),\n",
       " Row(id=35820, ps_ind_02_cat=1, target=0, ps_ind_01=0),\n",
       " Row(id=37489, ps_ind_02_cat=1, target=0, ps_ind_01=2),\n",
       " Row(id=38395, ps_ind_02_cat=2, target=0, ps_ind_01=5),\n",
       " Row(id=38422, ps_ind_02_cat=4, target=0, ps_ind_01=4),\n",
       " Row(id=38723, ps_ind_02_cat=1, target=0, ps_ind_01=4),\n",
       " Row(id=38758, ps_ind_02_cat=1, target=0, ps_ind_01=1),\n",
       " Row(id=39285, ps_ind_02_cat=2, target=0, ps_ind_01=3),\n",
       " Row(id=39432, ps_ind_02_cat=1, target=0, ps_ind_01=0),\n",
       " Row(id=40383, ps_ind_02_cat=1, target=0, ps_ind_01=0),\n",
       " Row(id=40515, ps_ind_02_cat=1, target=0, ps_ind_01=7),\n",
       " Row(id=40574, ps_ind_02_cat=1, target=0, ps_ind_01=1),\n",
       " Row(id=40653, ps_ind_02_cat=1, target=0, ps_ind_01=1),\n",
       " Row(id=41409, ps_ind_02_cat=1, target=0, ps_ind_01=1),\n",
       " Row(id=41575, ps_ind_02_cat=1, target=0, ps_ind_01=0),\n",
       " Row(id=41751, ps_ind_02_cat=1, target=0, ps_ind_01=2),\n",
       " Row(id=41890, ps_ind_02_cat=1, target=0, ps_ind_01=1),\n",
       " Row(id=41946, ps_ind_02_cat=2, target=0, ps_ind_01=0),\n",
       " Row(id=41988, ps_ind_02_cat=1, target=0, ps_ind_01=0),\n",
       " Row(id=42468, ps_ind_02_cat=2, target=0, ps_ind_01=1),\n",
       " Row(id=42834, ps_ind_02_cat=1, target=0, ps_ind_01=0),\n",
       " Row(id=43302, ps_ind_02_cat=1, target=0, ps_ind_01=4),\n",
       " Row(id=43688, ps_ind_02_cat=2, target=0, ps_ind_01=4),\n",
       " Row(id=43852, ps_ind_02_cat=1, target=0, ps_ind_01=0),\n",
       " Row(id=43935, ps_ind_02_cat=2, target=0, ps_ind_01=2),\n",
       " Row(id=44358, ps_ind_02_cat=2, target=0, ps_ind_01=5),\n",
       " Row(id=44437, ps_ind_02_cat=2, target=0, ps_ind_01=1),\n",
       " Row(id=45307, ps_ind_02_cat=2, target=0, ps_ind_01=2),\n",
       " Row(id=45341, ps_ind_02_cat=1, target=0, ps_ind_01=2),\n",
       " Row(id=46521, ps_ind_02_cat=1, target=0, ps_ind_01=6),\n",
       " Row(id=46952, ps_ind_02_cat=1, target=0, ps_ind_01=7),\n",
       " Row(id=47283, ps_ind_02_cat=2, target=0, ps_ind_01=1),\n",
       " Row(id=47501, ps_ind_02_cat=1, target=0, ps_ind_01=0),\n",
       " Row(id=49331, ps_ind_02_cat=1, target=0, ps_ind_01=4)]"
      ]
     },
     "execution_count": 47,
     "metadata": {},
     "output_type": "execute_result"
    }
   ],
   "source": [
    "#Perform a join between two dataframes\n",
    "df_join = df_1.join(df_2, \"id\")\n",
    "df_join.take(100)"
   ]
  },
  {
   "cell_type": "code",
   "execution_count": 17,
   "metadata": {},
   "outputs": [
    {
     "data": {
      "text/plain": [
       "[Row(id=496, ps_ind_02_cat=1, target=0, ps_ind_01=2)]"
      ]
     },
     "execution_count": 17,
     "metadata": {},
     "output_type": "execute_result"
    }
   ],
   "source": [
    "df_join.take(1)"
   ]
  },
  {
   "cell_type": "code",
   "execution_count": 22,
   "metadata": {
    "collapsed": true
   },
   "outputs": [],
   "source": [
    "#Need to register table for access\n",
    "import pyspark.sql\n",
    "\n",
    "source_df.registerTempTable(\"train\")\n",
    "df_3 = sqlContext.sql(\"\"\"SELECT id FROM train WHERE ps_ind_01 == 2\"\"\")"
   ]
  },
  {
   "cell_type": "code",
   "execution_count": 52,
   "metadata": {},
   "outputs": [
    {
     "name": "stdout",
     "output_type": "stream",
     "text": [
      "0.001988000000000323\n"
     ]
    },
    {
     "data": {
      "text/plain": [
       "[Row(id=7),\n",
       " Row(id=20),\n",
       " Row(id=35),\n",
       " Row(id=36),\n",
       " Row(id=74),\n",
       " Row(id=93),\n",
       " Row(id=98),\n",
       " Row(id=107),\n",
       " Row(id=109),\n",
       " Row(id=121),\n",
       " Row(id=137),\n",
       " Row(id=177),\n",
       " Row(id=200),\n",
       " Row(id=206),\n",
       " Row(id=221),\n",
       " Row(id=263),\n",
       " Row(id=271),\n",
       " Row(id=305),\n",
       " Row(id=306),\n",
       " Row(id=330)]"
      ]
     },
     "execution_count": 52,
     "metadata": {},
     "output_type": "execute_result"
    }
   ],
   "source": [
    "#Use sql query\n",
    "\n",
    "df_3 = sqlContext.sql(\"\"\"SELECT id FROM train WHERE ps_ind_01 == 2\"\"\")\n",
    "end = time.clock()\n",
    "optime = end - start\n",
    "print(optime)\n",
    "df_3.take(20)"
   ]
  },
  {
   "cell_type": "code",
   "execution_count": 30,
   "metadata": {},
   "outputs": [
    {
     "data": {
      "text/plain": [
       "82468"
      ]
     },
     "execution_count": 30,
     "metadata": {},
     "output_type": "execute_result"
    }
   ],
   "source": [
    "#find number of rows\n",
    "df_3.count()"
   ]
  },
  {
   "cell_type": "code",
   "execution_count": 31,
   "metadata": {},
   "outputs": [
    {
     "data": {
      "text/plain": [
       "59"
      ]
     },
     "execution_count": 31,
     "metadata": {},
     "output_type": "execute_result"
    }
   ],
   "source": [
    "len(source_df.columns)"
   ]
  }
 ],
 "metadata": {
  "kernelspec": {
   "display_name": "Python 3",
   "language": "python",
   "name": "python3"
  },
  "language_info": {
   "codemirror_mode": {
    "name": "ipython",
    "version": 3
   },
   "file_extension": ".py",
   "mimetype": "text/x-python",
   "name": "python",
   "nbconvert_exporter": "python",
   "pygments_lexer": "ipython3",
   "version": "3.6.1"
  }
 },
 "nbformat": 4,
 "nbformat_minor": 2
}
